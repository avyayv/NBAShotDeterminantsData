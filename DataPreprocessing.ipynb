{
 "cells": [
  {
   "cell_type": "markdown",
   "metadata": {},
   "source": [
    "# Preprocessing\n",
    "In this notebook we walk through the process to convert the raw XY SportVU data into some concrete numbers,\n",
    "we go through each game's data and extract for each shot:"
   ]
  },
  {
   "cell_type": "markdown",
   "metadata": {},
   "source": [
    "## Sifting Through Tracking Data\n",
    "\n",
    "We want to find the following features for each shot taken.\n",
    "\n",
    "final_shot_defense_distance, \n",
    "start_shot_defense_distance, \n",
    "final_shot_distance,\n",
    "shooter_id,\n",
    "defender_id\n",
    "\n",
    "We then save this to a csv file for later usage"
   ]
  },
  {
   "cell_type": "code",
   "execution_count": 1,
   "metadata": {},
   "outputs": [],
   "source": [
    "from tracking.tracking import get_shot_time_from_range, find_player_with_ball\n",
    "from tracking.plotting import get_plot_from_range\n",
    "from tracking.utils import get_total_time\n",
    "\n",
    "import pandas as pd\n",
    "import numpy as np\n",
    "import json\n",
    "%matplotlib inline\n",
    "import matplotlib.pyplot as plt\n",
    "import math\n",
    "from tqdm.auto import tqdm\n",
    "import os\n",
    "\n",
    "from scipy.signal import savgol_filter"
   ]
  },
  {
   "cell_type": "code",
   "execution_count": 2,
   "metadata": {},
   "outputs": [],
   "source": [
    "TRACKING_DIRECTORY = \"/home/avyayv/data/nba/rawtrackingfiles/data/csv/\"\n",
    "PBP_DIRECTORY = \"/home/avyayv/data/nba/playbyplay/py_ball/\""
   ]
  },
  {
   "cell_type": "code",
   "execution_count": 3,
   "metadata": {},
   "outputs": [],
   "source": [
    "def get_distance_to_hoop(shooter_x, shooter_y):\n",
    "    \"\"\"\n",
    "    Input: shooter_x, shooter_y\n",
    "    Returns: Distance from shooter to hoop in feet\n",
    "    \"\"\"\n",
    "    if shooter_x > 45:\n",
    "        hoop_x = 85\n",
    "    else:\n",
    "        hoop_x = 5\n",
    "    a = ((shooter_x-hoop_x)**2)+((shooter_y-25)**2)\n",
    "    return math.sqrt(a)"
   ]
  },
  {
   "cell_type": "code",
   "execution_count": 4,
   "metadata": {},
   "outputs": [],
   "source": [
    "def get_train_example(game, shooter_id, defender_id, start, end):\n",
    "    \n",
    "    \"\"\"\n",
    "    Input: game(game tracking dataframe), shooter_id, defender_id, start(start timestamp), end(end timestamp)\n",
    "    Returns: Individual array to be fed in as training sample\n",
    "    \"\"\"\n",
    "    \n",
    "    short_time_frame = game.loc[(game['total_time'] < start) & (game['total_time'] > end)]\n",
    "    short_time_frame = short_time_frame.sort_values(\"total_time\", ascending=False)\n",
    "    \n",
    "    shooter_df = short_time_frame.loc[short_time_frame['player_id'] == shooter_id].drop_duplicates(\"total_time\").iloc[0:23]\n",
    "    defender_df = short_time_frame.loc[short_time_frame['player_id'] == defender_id].drop_duplicates(\"total_time\").iloc[0:23]\n",
    "    \n",
    "    shooter_x, shooter_y = list(shooter_df['x_loc']), list(shooter_df['y_loc'])\n",
    "    defender_x, defender_y = list(defender_df['x_loc']), list(defender_df['y_loc'])\n",
    "\n",
    "    columns = [\"ShooterX\", \"ShooterY\", \"DefenderX\", \"DefenderY\"]\n",
    "    \n",
    "    frame = pd.DataFrame(columns=columns)\n",
    "    frame['ShooterX'] = shooter_x\n",
    "    frame['ShooterY'] = shooter_y\n",
    "    frame['DefenderX'] = defender_x\n",
    "    frame['DefenderY'] = defender_y\n",
    "    \n",
    "    difference = {}\n",
    "    difference['ShotDefenseX'] = (frame['ShooterX']-frame['DefenderX'])**2\n",
    "    difference['ShotDefenseY'] = (frame['ShooterY']-frame['DefenderY'])**2\n",
    "    difference['ShotDistanceX'] = (frame['ShooterX']-frame['DefenderX'])**2\n",
    "    difference['ShotDistanceY'] = (frame['ShooterY']-frame['DefenderY'])**2\n",
    "    difference['ShotDefenseDistance'] = np.sqrt(difference['ShotDefenseX']+difference['ShotDefenseY'])\n",
    "    \n",
    "    smoothed_data = savgol_filter(difference['ShotDefenseDistance'], 11, 3)\n",
    "    frame['ShotDefenseDistance'] = smoothed_data\n",
    "    frame['ShotDistance'] = np.vectorize(get_distance_to_hoop)(frame['ShooterX'], frame['ShooterY'])\n",
    "\n",
    "    final_shot_defense_distance = frame['ShotDefenseDistance'].iloc[-1]\n",
    "    start_shot_defense_distance = frame['ShotDefenseDistance'].iloc[0]\n",
    "    final_shot_distance = frame['ShotDistance'].iloc[-1]\n",
    "    \n",
    "    if final_shot_defense_distance-start_shot_defense_distance < 12: #ensuring data isn't an artifact of sorts\n",
    "        return [final_shot_defense_distance, start_shot_defense_distance, final_shot_distance]\n",
    "    else:\n",
    "        return [None]"
   ]
  },
  {
   "cell_type": "code",
   "execution_count": 8,
   "metadata": {},
   "outputs": [],
   "source": [
    "def get_all_train():\n",
    "    \"\"\"\n",
    "    Returns: X and y, the raw data that can be fed into the XGBoost Model\n",
    "    \"\"\"\n",
    "    X = []\n",
    "    y = []\n",
    "    for i, filename in enumerate(tqdm(os.listdir(TRACKING_DIRECTORY))):\n",
    "        try:\n",
    "            game = pd.read_csv(TRACKING_DIRECTORY+filename)\n",
    "            game_json = filename.split(\".\")[0]+'.json'\n",
    "            pbp = pd.DataFrame(json.loads(open(PBP_DIRECTORY+game_json).read())['PlayByPlay'])\n",
    "            misses = pbp.loc[pbp['EVENTMSGTYPE'] == 2].copy()\n",
    "            makes = pbp.loc[pbp['EVENTMSGTYPE'] == 1].copy()\n",
    "            misses['total_time'] = np.vectorize(get_total_time)(misses['PERIOD'], misses['PCTIMESTRING'], pbp=True)\n",
    "            makes['total_time'] = np.vectorize(get_total_time)(makes['PERIOD'], makes['PCTIMESTRING'], pbp=True)\n",
    "            game['total_time'] = np.vectorize(get_total_time)(game['quarter'], game['game_clock'])\n",
    "\n",
    "            for row in makes['total_time']:\n",
    "                try:\n",
    "                    time = get_shot_time_from_range(game, row+5, row-5)\n",
    "                    shooter, defender = find_player_with_ball(game, time)\n",
    "                    example = (get_train_example(game, shooter['player_id'], defender['player_id'], time, time-1))\n",
    "                    if example[0] != None:\n",
    "                        example.extend([shooter['player_id'], defender['player_id']])\n",
    "                        X.append(example)\n",
    "                        y.append(1)\n",
    "                except:\n",
    "                    continue\n",
    "\n",
    "            for row in misses['total_time']:\n",
    "                try:\n",
    "                    time = get_shot_time_from_range(game, row+5, row-5)\n",
    "                    shooter, defender = find_player_with_ball(game, time)\n",
    "                    example = (get_train_example(game, shooter['player_id'], defender['player_id'], time, time-1))\n",
    "                    if example[0] != None:\n",
    "                        example.extend([shooter['player_id'], defender['player_id']])\n",
    "                        X.append(example)\n",
    "                        y.append(0)\n",
    "                except:\n",
    "                    continue\n",
    "        except:\n",
    "            continue\n",
    "            \n",
    "    return X, y"
   ]
  },
  {
   "cell_type": "code",
   "execution_count": null,
   "metadata": {},
   "outputs": [
    {
     "data": {
      "application/vnd.jupyter.widget-view+json": {
       "model_id": "00035acc5d9b4d80a5c3199b6233208c",
       "version_major": 2,
       "version_minor": 0
      },
      "text/plain": [
       "HBox(children=(IntProgress(value=0, max=632), HTML(value='')))"
      ]
     },
     "metadata": {},
     "output_type": "display_data"
    }
   ],
   "source": [
    "X, y = get_all_train() #save data"
   ]
  },
  {
   "cell_type": "code",
   "execution_count": null,
   "metadata": {},
   "outputs": [],
   "source": [
    "pd.DataFrame(X).to_csv(\"trainXAll.csv\", index=False)\n",
    "pd.DataFrame(y).to_csv(\"trainYAll.csv\", index=False)"
   ]
  },
  {
   "cell_type": "markdown",
   "metadata": {},
   "source": [
    "## Getting Bio and percentage stats\n",
    "We also would like to feed in height differential and 3pt% into the model"
   ]
  },
  {
   "cell_type": "code",
   "execution_count": null,
   "metadata": {},
   "outputs": [],
   "source": [
    "\"\"\"\n",
    "Send request to NBA API so that it seems like this is a browser request from stats.nba.com\n",
    "\"\"\"\n",
    "headers = {\n",
    "    'Accept-Encoding': 'gzip, deflate, sdch',\n",
    "    'Accept-Language': 'en-US,en;q=0.8,ru;q=0.6',\n",
    "    'User-Agent': 'Mozilla/5.0 (Macintosh; Intel Mac OS X 10_11_2) AppleWebKit/537.36 (KHTML, like Gecko) Chrome/58.0.3029.110 Safari/537.36',\n",
    "    'Referer': 'https://stats.nba.com/teams/boxscores-traditional/',\n",
    "    'x-nba-stats-origin': 'stats',\n",
    "    'x-nba-stats-token': 'true'\n",
    "}"
   ]
  },
  {
   "cell_type": "code",
   "execution_count": null,
   "metadata": {},
   "outputs": [],
   "source": [
    "import requests\n",
    "bio_request = requests.get(\"https://stats.nba.com/stats/leaguedashplayerbiostats?College=&Conference=&Country=&DateFrom=&DateTo=&Division=&DraftPick=&DraftYear=&GameScope=&GameSegment=&Height=&LastNGames=0&LeagueID=00&Location=&Month=0&OpponentTeamID=0&Outcome=&PORound=0&PerMode=PerGame&Period=0&PlayerExperience=&PlayerPosition=&Season=2015-16&SeasonSegment=&SeasonType=Regular+Season&ShotClockRange=&StarterBench=&TeamID=0&VsConference=&VsDivision=&Weight=\", headers=headers)\n",
    "to_csv_bio = pd.DataFrame(bio_request.json()['resultSets'][0]['rowSet'], columns=bio_request.json()['resultSets'][0]['headers'])\n",
    "to_csv_bio.to_csv(\"bio_data.csv\")\n",
    "summary_request = requests.get(\"https://stats.nba.com/stats/leaguedashplayerstats?College=&Conference=&Country=&DateFrom=&DateTo=&Division=&DraftPick=&DraftYear=&GameScope=&GameSegment=&Height=&LastNGames=0&LeagueID=00&Location=&MeasureType=Base&Month=0&OpponentTeamID=0&Outcome=&PORound=0&PaceAdjust=N&PerMode=PerGame&Period=0&PlayerExperience=&PlayerPosition=&PlusMinus=N&Rank=N&Season=2015-16&SeasonSegment=&SeasonType=Regular+Season&ShotClockRange=&StarterBench=&TeamID=0&TwoWay=0&VsConference=&VsDivision=&Weight=\", headers=headers)\n",
    "to_csv_summary = pd.DataFrame(summary_request.json()['resultSets'][0]['rowSet'], columns=summary_request.json()['resultSets'][0]['headers'])\n",
    "to_csv_summary.to_csv(\"summary_data.csv\")"
   ]
  }
 ],
 "metadata": {
  "kernelspec": {
   "display_name": "Python 3",
   "language": "python",
   "name": "python3"
  },
  "language_info": {
   "codemirror_mode": {
    "name": "ipython",
    "version": 3
   },
   "file_extension": ".py",
   "mimetype": "text/x-python",
   "name": "python",
   "nbconvert_exporter": "python",
   "pygments_lexer": "ipython3",
   "version": "3.7.3"
  }
 },
 "nbformat": 4,
 "nbformat_minor": 2
}
